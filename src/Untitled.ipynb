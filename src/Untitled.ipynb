{
 "cells": [
  {
   "cell_type": "code",
   "execution_count": 10,
   "metadata": {},
   "outputs": [],
   "source": [
    "import seaborn as sns\n",
    "import matplotlib.pyplot as plt\n",
    "import pandas as pd\n",
    "import math\n",
    "sns.set(rc={'figure.figsize':(11.7,8.27)})\n",
    "\n",
    "# acceleration of gravity on the surface of the earth\n",
    "G = 9.80665"
   ]
  },
  {
   "cell_type": "code",
   "execution_count": 3,
   "metadata": {},
   "outputs": [
    {
     "data": {
      "text/plain": [
       "'\\nTODO:\\n 1. add smart motion graphs - velocity, initial position and time given\\n'"
      ]
     },
     "execution_count": 3,
     "metadata": {},
     "output_type": "execute_result"
    }
   ],
   "source": [
    "\"\"\"\n",
    "TODO:\n",
    " 1. add smart motion graphs - velocity, initial position and time given\n",
    "\"\"\""
   ]
  },
  {
   "cell_type": "code",
   "execution_count": 4,
   "metadata": {},
   "outputs": [],
   "source": [
    "\"\"\" \n",
    "    v = speed\n",
    "    s = distance\n",
    "    t = time\n",
    "    a = acceleration\n",
    "    specify = [\n",
    "        \"p-t\" -> position-time graph\n",
    "        \"v-t\" -> velocity-time graph\n",
    "        \"a-t\" -> acceleration-time graph\n",
    "    ]\n",
    "    -------\n",
    "    all arguments, except specify, are given as series\n",
    "    ------- \n",
    "    TODO: add summary of the graph?\n",
    "\"\"\"\n",
    "def motion_graph(\n",
    "        v=[],s=[],t=[],a=[],specify=\"\",  #data\n",
    "        color=\"#00aaff\" #information about graphs\n",
    "        ):\n",
    "    if specify==\"p-t\":\n",
    "        draw_graph(s,t,\"Position\",\"Time\",color)\n",
    "    elif specify==\"v-t\":\n",
    "        draw_graph(v,t,\"Velocity\",\"Time\",color)\n",
    "    elif specify==\"a-t\":\n",
    "        draw_graph(a,t,\"Acceleration\",\"Time\",color)\n",
    "    else:\n",
    "        raise ValueError(\"Please specify the type of graph you want. Options are: 'p-t','v-t','a-t'\")\n",
    "# helper function for motion_graph\n",
    "\n",
    "def draw_graph(series1,series2,ylabel,xlabel,color=\"#00aaff\",line=False):\n",
    "        # make all arguments pandas.Series\n",
    "        if not isinstance(series1,pd.Series):\n",
    "            series1 = pd.Series(va for va in series1)\n",
    "        if not isinstance(series2,pd.Series):\n",
    "            series2 = pd.Series(v for v in series2)\n",
    "        # create a dataframe\n",
    "        df = pd.DataFrame()\n",
    "        df = df.assign(series1=series1.values)\n",
    "        df = df.assign(series2=series2.values)\n",
    "        #plot\n",
    "        if line:\n",
    "            g = sns.lineplot(x=\"series2\",y=\"series1\",data=df,color=color);    \n",
    "        else:\n",
    "            g = sns.pointplot(x=\"series2\",y=\"series1\",data=df,color=color);    \n",
    "        g = (g.set(ylabel=ylabel, xlabel=xlabel))    \n",
    "        "
   ]
  },
  {
   "cell_type": "code",
   "execution_count": 1,
   "metadata": {},
   "outputs": [],
   "source": [
    "\"\"\"\n",
    "    v = velocity\n",
    "    vi = initial velocity\n",
    "    vf = final velocity\n",
    "    s = position\n",
    "    si = initial position\n",
    "    sf = final position\n",
    "    dt = change in time\n",
    "    a = acceleration\n",
    "    specify = [\n",
    "        \"p-t\" -> position-time\n",
    "        \"v-t\" -> velocity-time\n",
    "    ]\n",
    "    plane = either horizontal(h) or vertical(v). The equations change based on the plane.\n",
    "\"\"\"\n",
    "def smart_motion_graph(\n",
    "    v=None,vi=None,vf=None,s=None,si=None,sf=None,dt=None,a = None, specify=\"\",freeFall=False,\n",
    "    color=\"#00aaff\" #information about graphs\n",
    "    ):\n",
    "    \n",
    "    if freeFall==True:\n",
    "        a=-G\n",
    "    \n",
    "    if dt==None and specify:\n",
    "        raise ValueError(\"Please specify change in time(dt)\")\n",
    "        \n",
    "    if specify==\"p-t\":\n",
    "        # SCENARIO 1: Uniform motion We have v, si and time. sf = si+v*dt\n",
    "        if((v!=None or vi!=None) and si!=None and a==None):\n",
    "            v = vi if v==None else v\n",
    "            sf = si+v*dt\n",
    "            #series for all variables\n",
    "            s_dt = pd.Series(va for va in range(1,dt+1,round(dt*0.1)))\n",
    "            s_s = pd.Series([],dtype=pd.StringDtype())\n",
    "            for i in range(0,dt,round(dt*0.1)):\n",
    "                sf = si+v*i\n",
    "                s_s.at[sf] = sf            \n",
    "            draw_graph(s_s,s_dt,\"Position\",\"Time\",line=True)  \n",
    "        # SCENARIO 2: Constant acceleration: We have a,vi, si and time. sf = si+vf*dt+0.5*a*(dt)^2\n",
    "        elif((v!=None or vi!=None) and (si!=None or s!=None) and a!=None):\n",
    "            vi = vi if v==None else v\n",
    "            si = si if s==None else s\n",
    "            vf = vi+a*dt\n",
    "            s_s = pd.Series([],dtype=pd.StringDtype())\n",
    "            s_dt = pd.Series(va for va in range(1,dt+1,round(dt*0.1)))\n",
    "            for i in range(0,dt,round(dt*0.1)):\n",
    "                sf = si+vi*i+0.5*a*(i**2)                \n",
    "                s_s.at[sf] = sf\n",
    "            draw_graph(s_s,s_dt,\"Position\",\"Time\",line=True,color=color)\n",
    "        else: \n",
    "            raise ValueError(\"Please provide the necessary arguments. If it's uniform motion then v,si and time. If it's motion with constant acceleration then a,vi,si and time\")\n",
    "    elif specify==\"v-t\":\n",
    "        # SCENARIO 1: GIVEN : vi, a, dt. Equation vf = vi+a*dt\n",
    "        if((v!=None or vi!=None) and a!=None):\n",
    "            s_dt = pd.Series(va for va in range(1,dt+1,round(dt*0.1)))\n",
    "            s_v = pd.Series([],dtype=pd.StringDtype())\n",
    "            for i in range(0,dt,round(dt*0.1)):\n",
    "                vf = vi+a*i\n",
    "                s_v.at[vf] = vf            \n",
    "            draw_graph(s_v,s_dt,\"Velocity\",\"Time\",line=True,color=color)\n",
    "        else:\n",
    "            raise ValueError(\"Please provide the necessary arguments - vi, a, dt\")"
   ]
  },
  {
   "cell_type": "code",
   "execution_count": 2,
   "metadata": {},
   "outputs": [],
   "source": [
    "\"\"\"\n",
    "    angle -> 𝜃, launch angle\n",
    "    vi -> initial velocity\n",
    "    y -> initial height\n",
    "    x -> initial x position\n",
    "    dt -> change in time\n",
    "    specify -> [\n",
    "        'y-x' -> graph of y and x positions over time\n",
    "    ]\n",
    "\"\"\"\n",
    "def projectile_motion_graph(\n",
    "    angle = 0, vi = 0, y = 0, x = 0, dt = 0, specify=\"\", radians = False\n",
    "):\n",
    "    if not radians:\n",
    "        angle = math.radians(angle)\n",
    "    if specify==\"y-x\" or specify==\"x-y\":\n",
    "        # range is the distance projectile travels\n",
    "        # https://en.wikipedia.org/wiki/Range_of_a_projectile\n",
    "        insideSQRT = (vi**2)*(math.sin(angle)**2)+2*G*y\n",
    "        rangeCalc = ((vi*math.cos(angle))/G)*(vi*math.sin(angle)+math.sqrt(insideSQRT))\n",
    "        dt = round(2*vi*math.sin(angle)/G)\n",
    "        s_dt = pd.Series(va for va in range(0,dt,round(dt*0.1)))\n",
    "        print(s_dt)\n",
    "    "
   ]
  },
  {
   "cell_type": "code",
   "execution_count": null,
   "metadata": {},
   "outputs": [],
   "source": [
    "\"\"\"\n",
    "    f -> frequency\n",
    "    R -> radius\n",
    "    t -> time\n",
    "    specify -> [\n",
    "        'av-t' -> graph of angular velocity over time\n",
    "    ]\n",
    "\"\"\"\n",
    "\n",
    "def circular_motion_graph(\n",
    "    f = [], T = [], R = 0, t = [], specify = \"\"\n",
    "):\n",
    "        \n",
    "    if specify == \"av-t\" or specify == \"t-av\":\n",
    "        if(not f or R == 0 or not t):\n",
    "            raise(\"Please provide the necessary arguments. f (frequancy), R (radius), t (time)\")\n",
    "        av[] = 0\n",
    "        for i in range(len(f)):\n",
    "            av.append(2 * math.pi * f[i]) #angular velocity\n",
    "        draw_graph(av, t, \"Angular-velocity (Rad/Sec)\", \"Time (Sec)\")\n",
    "    else:\n",
    "        raise(\"Please specify graph type\")\n",
    "        \n",
    "        \n"
   ]
  },
  {
   "cell_type": "code",
   "execution_count": 4,
   "metadata": {},
   "outputs": [
    {
     "ename": "NameError",
     "evalue": "name 'math' is not defined",
     "output_type": "error",
     "traceback": [
      "\u001b[1;31m---------------------------------------------------------------------------\u001b[0m",
      "\u001b[1;31mNameError\u001b[0m                                 Traceback (most recent call last)",
      "\u001b[1;32mc:\\temp/ipykernel_10932/1354965768.py\u001b[0m in \u001b[0;36m<module>\u001b[1;34m\u001b[0m\n\u001b[1;32m----> 1\u001b[1;33m \u001b[0mprojectile_motion_graph\u001b[0m\u001b[1;33m(\u001b[0m\u001b[0mangle\u001b[0m\u001b[1;33m=\u001b[0m\u001b[1;36m75\u001b[0m\u001b[1;33m,\u001b[0m\u001b[0mx\u001b[0m\u001b[1;33m=\u001b[0m\u001b[1;36m100\u001b[0m\u001b[1;33m,\u001b[0m\u001b[0mvi\u001b[0m\u001b[1;33m=\u001b[0m\u001b[1;36m1169\u001b[0m\u001b[1;33m,\u001b[0m\u001b[0my\u001b[0m\u001b[1;33m=\u001b[0m\u001b[1;36m130\u001b[0m\u001b[1;33m,\u001b[0m\u001b[0mspecify\u001b[0m\u001b[1;33m=\u001b[0m\u001b[1;34m\"y-x\"\u001b[0m\u001b[1;33m)\u001b[0m\u001b[1;33m\u001b[0m\u001b[0m\n\u001b[0m",
      "\u001b[1;32mc:\\temp/ipykernel_10932/537287198.py\u001b[0m in \u001b[0;36mprojectile_motion_graph\u001b[1;34m(angle, vi, y, x, dt, specify, radians)\u001b[0m\n\u001b[0;32m     13\u001b[0m ):\n\u001b[0;32m     14\u001b[0m     \u001b[1;32mif\u001b[0m \u001b[1;32mnot\u001b[0m \u001b[0mradians\u001b[0m\u001b[1;33m:\u001b[0m\u001b[1;33m\u001b[0m\u001b[0m\n\u001b[1;32m---> 15\u001b[1;33m         \u001b[0mangle\u001b[0m \u001b[1;33m=\u001b[0m \u001b[0mmath\u001b[0m\u001b[1;33m.\u001b[0m\u001b[0mradians\u001b[0m\u001b[1;33m(\u001b[0m\u001b[0mangle\u001b[0m\u001b[1;33m)\u001b[0m\u001b[1;33m\u001b[0m\u001b[0m\n\u001b[0m\u001b[0;32m     16\u001b[0m     \u001b[1;32mif\u001b[0m \u001b[0mspecify\u001b[0m\u001b[1;33m==\u001b[0m\u001b[1;34m\"y-x\"\u001b[0m \u001b[1;32mor\u001b[0m \u001b[0mspecify\u001b[0m\u001b[1;33m==\u001b[0m\u001b[1;34m\"x-y\"\u001b[0m\u001b[1;33m:\u001b[0m\u001b[1;33m\u001b[0m\u001b[0m\n\u001b[0;32m     17\u001b[0m         \u001b[1;31m# range is the distance projectile travels\u001b[0m\u001b[1;33m\u001b[0m\u001b[1;33m\u001b[0m\u001b[0m\n",
      "\u001b[1;31mNameError\u001b[0m: name 'math' is not defined"
     ]
    }
   ],
   "source": [
    "projectile_motion_graph(angle=75,x=100,vi=1169,y=130,specify=\"y-x\")"
   ]
  },
  {
   "cell_type": "code",
   "execution_count": null,
   "metadata": {},
   "outputs": [],
   "source": []
  },
  {
   "cell_type": "code",
   "execution_count": null,
   "metadata": {},
   "outputs": [],
   "source": []
  }
 ],
 "metadata": {
  "kernelspec": {
   "display_name": "Python 3 (ipykernel)",
   "language": "python",
   "name": "python3"
  },
  "language_info": {
   "codemirror_mode": {
    "name": "ipython",
    "version": 3
   },
   "file_extension": ".py",
   "mimetype": "text/x-python",
   "name": "python",
   "nbconvert_exporter": "python",
   "pygments_lexer": "ipython3",
   "version": "3.7.0"
  }
 },
 "nbformat": 4,
 "nbformat_minor": 4
}
